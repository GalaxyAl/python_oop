{
 "cells": [
  {
   "cell_type": "markdown",
   "metadata": {
    "jupyter": {
     "outputs_hidden": true
    }
   },
   "source": [
    "#Level A"
   ]
  },
  {
   "cell_type": "markdown",
   "metadata": {},
   "source": [
    ">Creating a data descriptor that sets and returns values normally and prints a message logging their access.\n",
    ">>The value of data descriptor is shared between all instances of a class"
   ]
  },
  {
   "cell_type": "code",
   "execution_count": 6,
   "metadata": {},
   "outputs": [],
   "source": [
    "class Descriptor:\n",
    "\n",
    "    def __init__(self):\n",
    "        self.name = ''\n",
    "\n",
    "    def __get__(self, instance, owner):\n",
    "        print(f'Getting: {self.name}')\n",
    "        return self.name\n",
    "\n",
    "    def __set__(self, instance, name):\n",
    "        print(f'Setting: {name}')\n",
    "        self.name = name\n",
    "\n",
    "    def __delete__(self, instance):\n",
    "        print(f'Deleting: {self.name}')\n",
    "        del self.name\n",
    "        \n",
    "class Person:\n",
    "    name = Descriptor()"
   ]
  },
  {
   "cell_type": "code",
   "execution_count": 8,
   "metadata": {},
   "outputs": [
    {
     "name": "stdout",
     "output_type": "stream",
     "text": [
      "Setting: Jack\n",
      "Setting: John\n",
      "Getting: John\n",
      "Getting: John\n",
      "John John\n"
     ]
    }
   ],
   "source": [
    "obj_1 = Person()\n",
    "obj_2 = Person()\n",
    "\n",
    "obj_1.name = 'Jack'\n",
    "obj_2.name = 'John'\n",
    "\n",
    "print(obj_1.name, obj_2.name)"
   ]
  },
  {
   "cell_type": "markdown",
   "metadata": {},
   "source": [
    ">Creating a data descriptor that sets and returns values normally and prints a message logging their access.\n",
    ">>The value of data descriptor is unique for each instances of a class"
   ]
  },
  {
   "cell_type": "code",
   "execution_count": 9,
   "metadata": {},
   "outputs": [],
   "source": [
    "class Descriptor:\n",
    "\n",
    "    def __init__(self, field):\n",
    "        self.field_name = field\n",
    "\n",
    "    def __get__(self, instance, owner):\n",
    "        print(f'Getting: {instance.__dict__[self.field_name]}')\n",
    "        return instance.__dict__[self.field_name]\n",
    "\n",
    "    def __set__(self, instance, value):\n",
    "        print(f'Setting: {value}')\n",
    "        instance.__dict__[self.field_name] = value\n",
    "\n",
    "    def __delete__(self, instance):\n",
    "        print(f'Deleting: {self.field_name}')\n",
    "        del self.field_name\n",
    "\n",
    "\n",
    "class Person:\n",
    "    name = Descriptor('name')\n",
    "\n",
    "    def __init__(self, name):\n",
    "        self.name = name"
   ]
  },
  {
   "cell_type": "code",
   "execution_count": 10,
   "metadata": {},
   "outputs": [
    {
     "name": "stdout",
     "output_type": "stream",
     "text": [
      "Setting: Jack\n",
      "Setting: John\n",
      "Getting: Jack\n",
      "Getting: John\n",
      "Jack John\n"
     ]
    }
   ],
   "source": [
    "obj_1 = Person('Jack')\n",
    "obj_2 = Person('John')\n",
    "\n",
    "print(obj_1.name, obj_2.name)"
   ]
  },
  {
   "cell_type": "markdown",
   "metadata": {},
   "source": [
    "#Level B"
   ]
  },
  {
   "cell_type": "markdown",
   "metadata": {},
   "source": [
    ">Create a class Order with such data-attributes as shipping_price and order_price. The shipping and order price must be stored including VAT. Also, the tax calculated for Europe region and US region are different."
   ]
  },
  {
   "cell_type": "code",
   "execution_count": 1,
   "metadata": {},
   "outputs": [
    {
     "name": "stdout",
     "output_type": "stream",
     "text": [
      "24.0\n",
      "48.0\n"
     ]
    }
   ],
   "source": [
    "class Tax:\n",
    "    taxes = {\n",
    "        'EU': 0.2,\n",
    "        'US':0.1\n",
    "    }\n",
    "\n",
    "    def __init__(self, country_post, field):\n",
    "        self.tax = self.taxes[country_post]\n",
    "        self.field_name = field\n",
    "\n",
    "    def __get__(self, instance, owner):\n",
    "        return instance.__dict__[self.field_name]\n",
    "\n",
    "    def __set__(self, instance, value):\n",
    "        instance.__dict__[self.field_name] = value * (1 + self.tax)\n",
    "\n",
    "\n",
    "class EbayGermany:\n",
    "    shipping_price = Tax('EU', 'shipping_price')\n",
    "    order_price = Tax('EU', 'order_price')\n",
    "\n",
    "    def __init__(self, **kwargs):\n",
    "        self.shipping_price = kwargs['shipping_price']\n",
    "        self.order_price = kwargs['order_price']\n",
    "\n",
    "\n",
    "ebay_germany = EbayGermany(shipping_price=20, order_price=40)\n",
    "\n",
    "print(ebay_germany.shipping_price)\n",
    "print(ebay_germany.order_price)"
   ]
  },
  {
   "cell_type": "markdown",
   "metadata": {},
   "source": [
    ">Interception undefined attribute in class and delegation them to the embedded object with the getattr built-in."
   ]
  },
  {
   "cell_type": "code",
   "execution_count": 2,
   "metadata": {},
   "outputs": [
    {
     "name": "stdout",
     "output_type": "stream",
     "text": [
      "[Person: Bob Smith, 0]\n",
      "[Person: Sue Jones, 100000]\n",
      "Smith Jones\n",
      "[Person: Sue Jones, 110000.00000000001]\n",
      "Jones\n",
      "[Person: Tom Jones, 60000.0]\n"
     ]
    }
   ],
   "source": [
    "class Person:\n",
    "    def __init__(self, full_name, job=None, pay=0):\n",
    "        self.__name = full_name\n",
    "        self.__job = job\n",
    "        self.__pay = pay\n",
    "\n",
    "    def last_name(self):\n",
    "        return self.__name.split()[-1]\n",
    "\n",
    "    def set_raise(self, percent):\n",
    "        self.__pay = self.__pay * (1 + percent)\n",
    "\n",
    "    def __str__(self):\n",
    "        return f'[Person: {self.__name}, {self.__pay}]'\n",
    "\n",
    "\n",
    "class Manager:\n",
    "    def __init__(self, full_name, pay):\n",
    "        self.__person = Person(full_name, 'mgr', pay)   # Embed a Person object\n",
    "\n",
    "    def set_raise(self, percent, bonus=.10):\n",
    "        self.__person.set_raise(percent + bonus)          # Intercept and delegate\n",
    "\n",
    "    def __getattr__(self, attr):\n",
    "        return getattr(self.__person, attr)             # Delegate all other attrs\n",
    "\n",
    "    def __str__(self):\n",
    "        return str(self.__person)\n",
    "\n",
    "\n",
    "bob = Person('Bob Smith')\n",
    "sue = Person('Sue Jones', job='dev', pay=100000)\n",
    "print(bob)\n",
    "print(sue)\n",
    "print(bob.last_name(), sue.last_name())\n",
    "sue.set_raise(.10)\n",
    "print(sue)\n",
    "tom = Manager('Tom Jones', 50000)  # Job name not needed:\n",
    "tom.set_raise(.10)  # Implied/set by class\n",
    "print(tom.last_name())\n",
    "print(tom)"
   ]
  }
 ],
 "metadata": {
  "kernelspec": {
   "display_name": "Python 3",
   "language": "python",
   "name": "python3"
  },
  "language_info": {
   "codemirror_mode": {
    "name": "ipython",
    "version": 3
   },
   "file_extension": ".py",
   "mimetype": "text/x-python",
   "name": "python",
   "nbconvert_exporter": "python",
   "pygments_lexer": "ipython3",
   "version": "3.7.3"
  }
 },
 "nbformat": 4,
 "nbformat_minor": 4
}
