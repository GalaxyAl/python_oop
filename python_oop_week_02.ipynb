{
 "cells": [
  {
   "cell_type": "markdown",
   "metadata": {},
   "source": [
    "#Level A"
   ]
  },
  {
   "cell_type": "markdown",
   "metadata": {},
   "source": [
    "##Minimal Class Definition"
   ]
  },
  {
   "cell_type": "code",
   "execution_count": 5,
   "metadata": {},
   "outputs": [],
   "source": [
    "class Student:\n",
    "    pass"
   ]
  },
  {
   "cell_type": "code",
   "execution_count": 3,
   "metadata": {},
   "outputs": [
    {
     "name": "stdout",
     "output_type": "stream",
     "text": [
      "94802440\n"
     ]
    }
   ],
   "source": [
    "print(id(Student))"
   ]
  },
  {
   "cell_type": "code",
   "execution_count": 4,
   "metadata": {},
   "outputs": [
    {
     "name": "stdout",
     "output_type": "stream",
     "text": [
      "5768176 5768144\n"
     ]
    }
   ],
   "source": [
    "st_1 = Student()\n",
    "st_2 = Student()\n",
    "print(id(st_1), id(st_2))"
   ]
  },
  {
   "cell_type": "markdown",
   "metadata": {},
   "source": [
    "##Self"
   ]
  },
  {
   "cell_type": "code",
   "execution_count": 7,
   "metadata": {},
   "outputs": [],
   "source": [
    "class Student:\n",
    "    def __init__(self, surname, name):\n",
    "        self.surname = surname\n",
    "        self.name = name\n",
    "    \n",
    "    def __str__(self):\n",
    "        return f'{self.surname} {self.name}'"
   ]
  },
  {
   "cell_type": "code",
   "execution_count": 10,
   "metadata": {},
   "outputs": [
    {
     "name": "stdout",
     "output_type": "stream",
     "text": [
      "Иванов Иван\n",
      "Петров Петр\n"
     ]
    }
   ],
   "source": [
    "st_1 = Student('Иванов', 'Иван')\n",
    "st_2 = Student('Петров', 'Петр')\n",
    "print(st_1, st_2, sep='\\n')"
   ]
  },
  {
   "cell_type": "code",
   "execution_count": 11,
   "metadata": {},
   "outputs": [
    {
     "name": "stdout",
     "output_type": "stream",
     "text": [
      "5768496 5767408\n"
     ]
    }
   ],
   "source": [
    "print(id(st_1), id(st_2))"
   ]
  },
  {
   "cell_type": "markdown",
   "metadata": {},
   "source": [
    "#Level B"
   ]
  },
  {
   "cell_type": "markdown",
   "metadata": {},
   "source": [
    ">Create a Temperature class with two methods :\n",
    ">>1. convert_to_fahrenheit - converts from Celsius to Fahrenheit.\n",
    ">>2. convert_to_celsius - converts from Fahrenheit to Celsius."
   ]
  },
  {
   "cell_type": "code",
   "execution_count": 17,
   "metadata": {},
   "outputs": [],
   "source": [
    "class Temperature:\n",
    "    def __init__(self, temperature, scale='C'):\n",
    "        self.temperature = temperature\n",
    "        self.scale = scale\n",
    "    \n",
    "    def __str__(self):\n",
    "        if self.scale == 'C':\n",
    "            return f'{self.temperature} \\xb0C'\n",
    "        if self.scale == 'F':\n",
    "            return f'{self.temperature} \\xb0F'\n",
    "        \n",
    "        return None\n",
    "        \n",
    "    \n",
    "    def convert_to_fahrenheit(self):\n",
    "        if self.scale == 'C':\n",
    "            self.temperature, self.scale = self.temperature * 9/5 + 32, 'F'\n",
    "        \n",
    "    def convert_to_celsius(self):\n",
    "        if self.scale == 'F':\n",
    "            self.temperature, self.scale = (self.temperature - 32) * 5/9, 'C'"
   ]
  },
  {
   "cell_type": "code",
   "execution_count": 18,
   "metadata": {},
   "outputs": [
    {
     "name": "stdout",
     "output_type": "stream",
     "text": [
      "31 °C\n",
      "87.8 °F\n"
     ]
    }
   ],
   "source": [
    "obj = Temperature(31)\n",
    "obj.convert_to_celsius()\n",
    "print(obj)\n",
    "obj.convert_to_fahrenheit()\n",
    "print(obj)"
   ]
  },
  {
   "cell_type": "markdown",
   "metadata": {},
   "source": [
    "#Level C"
   ]
  },
  {
   "cell_type": "markdown",
   "metadata": {},
   "source": [
    ">Create a class that descibes a Product of online store. As a Product fields you can use a price, description and product' dimensions. "
   ]
  },
  {
   "cell_type": "code",
   "execution_count": 19,
   "metadata": {},
   "outputs": [],
   "source": [
    "import uuid\n",
    "\n",
    "\n",
    "class Product:\n",
    "    \"\"\"\n",
    "    Class defines Product.\n",
    "    \"\"\"\n",
    "\n",
    "    def __init__(self, price=0.0, description='', width=0.0, height=0.0, depth=0.0):\n",
    "        if not isinstance(price, (int, float)):\n",
    "            raise TypeError(f\"'{type(price).__name__}' object cannot be interpreted as an price of product\")\n",
    "        if price <= 0:\n",
    "            raise ValueError(f'Product\\'s price cannot be less or equal 0.0')\n",
    "\n",
    "        self.id = uuid.uuid4()\n",
    "        self.price = price\n",
    "        self.description = description\n",
    "        self.width = width\n",
    "        self.height = height\n",
    "        self.depth = depth\n",
    "\n",
    "    def __str__(self):\n",
    "        return f'Product: id = {self.id}; {self.price} грн.; {self.description}; ' \\\n",
    "            f'size - {self.width} x {self.height} x {self.depth}'"
   ]
  },
  {
   "cell_type": "code",
   "execution_count": 20,
   "metadata": {},
   "outputs": [],
   "source": [
    "product_1 = Product(24000, '13,3\" (1440x900) / Intel Core i5 (1.8 ГГц) / RAM 8 ГБ / SSD 128 ГБ / Intel HD Graphics 600', 325, 227, 17)\n",
    "product_2 = Product(43500, '13.3\" (2560x1600) / Intel Core i5-8257U (1.4 - 3.9 ГГц) / RAM 8 ГБ / SSD 256 ГБ / Intel Iris Plus Graphics 645', 304.1, 212.4, 15.6)"
   ]
  },
  {
   "cell_type": "code",
   "execution_count": 21,
   "metadata": {},
   "outputs": [
    {
     "name": "stdout",
     "output_type": "stream",
     "text": [
      "Product: id = 6a1b4edf-ea28-4c9e-84e8-c2e8c05b444d; 24000 грн.; 13,3\" (1440x900) / Intel Core i5 (1.8 ГГц) / RAM 8 ГБ / SSD 128 ГБ / Intel HD Graphics 600; size - 325 x 227 x 17\n",
      "Product: id = 86fe259c-b8d4-4f13-aa4a-012ae82c5d21; 43500 грн.; 13.3\" (2560x1600) / Intel Core i5-8257U (1.4 - 3.9 ГГц) / RAM 8 ГБ / SSD 256 ГБ / Intel Iris Plus Graphics 645; size - 304.1 x 212.4 x 15.6\n"
     ]
    }
   ],
   "source": [
    "print(product_1, product_2, sep='\\n')"
   ]
  },
  {
   "cell_type": "markdown",
   "metadata": {},
   "source": [
    ">Create a class that describes a Customer. As a Customer fields you can use surname, name, patronymic, mobile phone, etc."
   ]
  },
  {
   "cell_type": "code",
   "execution_count": 27,
   "metadata": {},
   "outputs": [],
   "source": [
    "import uuid\n",
    "\n",
    "\n",
    "class Customer:\n",
    "    \"\"\"\n",
    "    Class defines Customer.\n",
    "    \"\"\"\n",
    "\n",
    "    def __init__(self, phone, surname, name):\n",
    "        if not isinstance(surname, str):\n",
    "            raise TypeError(f\"'{type(surname).__name__}' object cannot be interpreted as a surname of customer\")\n",
    "        if not isinstance(name, str):\n",
    "            raise TypeError(f\"'{type(name).__name__}' object cannot be interpreted as a name of customer\")\n",
    "        \n",
    "        if len(surname) == 0:\n",
    "            raise ValueError(f'Customer cannot be without surname')\n",
    "        if len(name) == 0:\n",
    "            raise ValueError(f'Customer cannot be without name')\n",
    "\n",
    "        self.id = uuid.uuid4()\n",
    "        self.name, self.surname = name, surname\n",
    "        self.phone = phone\n",
    "\n",
    "    def __str__(self):\n",
    "        return f'Customer: id = {self.id}\\n {self.surname} {self.name}'"
   ]
  },
  {
   "cell_type": "code",
   "execution_count": 28,
   "metadata": {},
   "outputs": [],
   "source": [
    "customer_x = Customer('099-00-00-000', 'Сидоров', 'Иван')\n",
    "customer_y = Customer('099-00-00-001', 'Петров', 'Иван')"
   ]
  },
  {
   "cell_type": "code",
   "execution_count": 29,
   "metadata": {},
   "outputs": [
    {
     "name": "stdout",
     "output_type": "stream",
     "text": [
      "Customer: id = 570d6859-d106-444d-a90a-1d5914eaa1fa\n",
      " Сидоров Иван\n",
      "Customer: id = a4efb572-6c4f-40ae-a508-4b2fada5f4f8\n",
      " Петров Иван\n"
     ]
    }
   ],
   "source": [
    "print(customer_x, customer_y, sep='\\n')"
   ]
  },
  {
   "cell_type": "markdown",
   "metadata": {},
   "source": [
    ">Create a class that describes an Order.\n",
    ">>The order must contain data about the customer who carried it out and products.\n",
    ">>Implement a method for calculating the total order value."
   ]
  },
  {
   "cell_type": "code",
   "execution_count": 30,
   "metadata": {},
   "outputs": [],
   "source": [
    "import uuid\n",
    "\n",
    "\n",
    "class Order:\n",
    "    \"\"\"\n",
    "    Class defines Order.\n",
    "    \"\"\"\n",
    "\n",
    "    def __init__(self, customer=None):\n",
    "        if customer is not None and not isinstance(customer, Customer):\n",
    "            raise TypeError(f\"'{type(customer).__name__}' object cannot be interpreted as a customer\")\n",
    "\n",
    "        self.id = uuid.uuid4()\n",
    "        self.customer = customer\n",
    "        self.products = []\n",
    "\n",
    "    def __str__(self):\n",
    "        str_products = '\\n'.join(map(str, self.products))\n",
    "        return f'Order {self.id}\\n' \\\n",
    "            f'{str(self.customer)}\\n' \\\n",
    "            f'{str_products}\\n' \\\n",
    "            f'Total price: {self.get_total_price()}'\n",
    "\n",
    "    def get_total_price(self):\n",
    "        res = 0.0\n",
    "        for item in self.products:\n",
    "            res += item.price\n",
    "        return res\n",
    "\n",
    "    def add_product(self, value):\n",
    "        if not isinstance(value, Product):\n",
    "            raise TypeError(f\"'{type(value).__name__}' object cannot be interpreted as a product\")\n",
    "\n",
    "        self.products.append(value)\n",
    "\n",
    "    def del_product_by_value(self, value):\n",
    "        if not isinstance(value, Product):\n",
    "            raise TypeError(f\"'{type(value).__name__}' object cannot be interpreted as a product\")\n",
    "\n",
    "        if self.products is not None:\n",
    "            self.products.remove(value)\n",
    "\n",
    "    def del_product_by_index(self, index):\n",
    "        if self.products is not None:\n",
    "            del self.products[index]"
   ]
  },
  {
   "cell_type": "code",
   "execution_count": 31,
   "metadata": {},
   "outputs": [],
   "source": [
    "order_1 = Order(customer_x)\n",
    "order_2 = Order(customer_y)\n",
    "\n",
    "order_1.add_product(product_1)\n",
    "\n",
    "order_2.add_product(product_1)\n",
    "order_2.add_product(product_2)"
   ]
  },
  {
   "cell_type": "code",
   "execution_count": 32,
   "metadata": {},
   "outputs": [
    {
     "name": "stdout",
     "output_type": "stream",
     "text": [
      "Order a41b1cf5-5da0-44fb-affc-e696f5dca11f\n",
      "Customer: id = 570d6859-d106-444d-a90a-1d5914eaa1fa\n",
      " Сидоров Иван\n",
      "Product: id = 6a1b4edf-ea28-4c9e-84e8-c2e8c05b444d; 24000 грн.; 13,3\" (1440x900) / Intel Core i5 (1.8 ГГц) / RAM 8 ГБ / SSD 128 ГБ / Intel HD Graphics 600; size - 325 x 227 x 17\n",
      "Total price: 24000.0\n",
      "Order 30d39760-8b02-427a-bba4-80583e166c99\n",
      "Customer: id = a4efb572-6c4f-40ae-a508-4b2fada5f4f8\n",
      " Петров Иван\n",
      "Product: id = 6a1b4edf-ea28-4c9e-84e8-c2e8c05b444d; 24000 грн.; 13,3\" (1440x900) / Intel Core i5 (1.8 ГГц) / RAM 8 ГБ / SSD 128 ГБ / Intel HD Graphics 600; size - 325 x 227 x 17\n",
      "Product: id = 86fe259c-b8d4-4f13-aa4a-012ae82c5d21; 43500 грн.; 13.3\" (2560x1600) / Intel Core i5-8257U (1.4 - 3.9 ГГц) / RAM 8 ГБ / SSD 256 ГБ / Intel Iris Plus Graphics 645; size - 304.1 x 212.4 x 15.6\n",
      "Total price: 67500.0\n"
     ]
    }
   ],
   "source": [
    "print(order_1)\n",
    "print(order_2)"
   ]
  },
  {
   "cell_type": "code",
   "execution_count": null,
   "metadata": {},
   "outputs": [],
   "source": []
  }
 ],
 "metadata": {
  "kernelspec": {
   "display_name": "Python 3",
   "language": "python",
   "name": "python3"
  },
  "language_info": {
   "codemirror_mode": {
    "name": "ipython",
    "version": 3
   },
   "file_extension": ".py",
   "mimetype": "text/x-python",
   "name": "python",
   "nbconvert_exporter": "python",
   "pygments_lexer": "ipython3",
   "version": "3.7.3"
  }
 },
 "nbformat": 4,
 "nbformat_minor": 4
}
